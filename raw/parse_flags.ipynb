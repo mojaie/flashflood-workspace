{
 "cells": [
  {
   "cell_type": "code",
   "execution_count": 7,
   "metadata": {
    "collapsed": false,
    "scrolled": false
   },
   "outputs": [],
   "source": [
    "%matplotlib inline\n",
    "\n",
    "import csv\n",
    "import collections\n",
    "import importlib\n",
    "import pprint\n",
    "import io\n",
    "\n",
    "output = ['''---\n",
    "sql: >\n",
    "  CREATE TABLE FREQHIT (\n",
    "    ID text primary key check(ID != '') collate nocase,'''\n",
    "]\n",
    "\n",
    "with open(\"annotation_flags.csv\") as f:\n",
    "    reader = csv.DictReader(f)\n",
    "    output.append(\",\\n\".join(\"    {} integer\".format(n) for n in reader.fieldnames) + \"\\n  )\\n\")\n",
    "    output.append(\"id: freqhit\")\n",
    "    output.append(\"columns:\")\n",
    "    for n in reader.fieldnames:\n",
    "        output.append(\"  - key: {}\".format(n))\n",
    "        output.append(\"    name: freqHit_{}\".format(n))\n",
    "        output.append(\"    tags: [{}]\".format(n))\n",
    "        output.append(\"    valueType: flag\\n\")\n",
    "    output.append(\"---\")\n",
    "    output.append(\"{}\\t{}\".format(\"ID\", \"\\t\".join(reader.fieldnames)))\n",
    "    records = {}\n",
    "    for row in reader:\n",
    "        for col, id_ in row.items():\n",
    "            if id_ is None or id_ == \"\":\n",
    "                continue\n",
    "            if id_ not in records:\n",
    "                records[id_] = []\n",
    "            records[id_].append(col)\n",
    "    for id_, cols in sorted(records.items(), key=lambda x: x[0]):\n",
    "        row = \"\\t\".join(str(int(n in cols)) for n in reader.fieldnames)\n",
    "        output.append(\"{}\\t{}\".format(id_, row))\n",
    "\n",
    "output.append(\"\\n\")\n",
    "with open(\"../text_demo/annotation_flags.txt\", \"w\") as f:\n",
    "    f.write(\"\\n\".join(output))\n",
    "\n",
    "\n"
   ]
  }
 ],
 "metadata": {
  "kernelspec": {
   "display_name": "Python 3",
   "language": "python",
   "name": "python3"
  },
  "language_info": {
   "codemirror_mode": {
    "name": "ipython",
    "version": 3
   },
   "file_extension": ".py",
   "mimetype": "text/x-python",
   "name": "python",
   "nbconvert_exporter": "python",
   "pygments_lexer": "ipython3",
   "version": "3.5.2"
  }
 },
 "nbformat": 4,
 "nbformat_minor": 1
}
